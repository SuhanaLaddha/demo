{
 "cells": [
  {
   "cell_type": "code",
   "execution_count": 72,
   "id": "11d04ed3-57f2-4f75-9642-ccc346496077",
   "metadata": {},
   "outputs": [],
   "source": [
    "# htmlcontent=\"\"\""
   ]
  },
  {
   "cell_type": "code",
   "execution_count": null,
   "id": "7508325c-577e-4475-98f8-9a4b4fe27db0",
   "metadata": {},
   "outputs": [],
   "source": [
    "gemini_api_key=\"AIzaSxxxxxxxxxxxxx\""
   ]
  },
  {
   "cell_type": "raw",
   "id": "d94bfc6c-5b35-461d-be90-4474ab948c00",
   "metadata": {},
   "source": []
  },
  {
   "cell_type": "code",
   "execution_count": 74,
   "id": "afcea064-30a5-4254-b965-c292bb02d137",
   "metadata": {},
   "outputs": [],
   "source": [
    "from bs4 import BeautifulSoup"
   ]
  },
  {
   "cell_type": "code",
   "execution_count": 75,
   "id": "f45b5782-c5ac-4440-a16f-9d914f1358a8",
   "metadata": {},
   "outputs": [],
   "source": [
    "mysoup = BeautifulSoup(markup=htmlcontent, features=\"html.parser\")"
   ]
  },
  {
   "cell_type": "code",
   "execution_count": 76,
   "id": "455e32b5-9339-4b7a-8f6d-fbc4fdef9f4b",
   "metadata": {},
   "outputs": [
    {
     "data": {
      "text/plain": [
       "'This is para2'"
      ]
     },
     "execution_count": 76,
     "metadata": {},
     "output_type": "execute_result"
    }
   ],
   "source": [
    "mysoup.find_all(\"p\")[1].text"
   ]
  },
  {
   "cell_type": "code",
   "execution_count": 94,
   "id": "a20930cc-d4b8-47d4-9d00-032b92bc2b8c",
   "metadata": {},
   "outputs": [],
   "source": [
    "import requests"
   ]
  },
  {
   "cell_type": "code",
   "execution_count": 95,
   "id": "ef6d2841-27cb-4eb6-97e0-1881deb05c44",
   "metadata": {},
   "outputs": [],
   "source": [
    "response = requests.get(\"https://www.aiwarriors.in/\")"
   ]
  },
  {
   "cell_type": "code",
   "execution_count": 96,
   "id": "0269976e-92d9-4a59-ba80-2fd5c439751b",
   "metadata": {},
   "outputs": [
    {
     "data": {
      "text/plain": [
       "<Response [200]>"
      ]
     },
     "execution_count": 96,
     "metadata": {},
     "output_type": "execute_result"
    }
   ],
   "source": [
    "response"
   ]
  },
  {
   "cell_type": "code",
   "execution_count": 97,
   "id": "4b98c043-8a12-4eef-a61c-e90e3274be3c",
   "metadata": {},
   "outputs": [
    {
     "data": {
      "text/plain": [
       "{'Access-Control-Allow-Origin': '*', 'Age': '1521288', 'Cache-Control': 'public, max-age=0, must-revalidate', 'Content-Disposition': 'inline', 'Content-Encoding': 'br', 'Content-Type': 'text/html; charset=utf-8', 'Date': 'Sun, 13 Jul 2025 01:31:13 GMT', 'Etag': 'W/\"afc5b408e5328f8d462f4ef8ea502594\"', 'Server': 'Vercel', 'Strict-Transport-Security': 'max-age=63072000', 'Vary': 'RSC, Next-Router-State-Tree, Next-Router-Prefetch, Next-Url', 'X-Matched-Path': '/', 'X-Vercel-Cache': 'HIT', 'X-Vercel-Id': 'bom1::ktzlk-1752370273653-b27012c42048', 'Transfer-Encoding': 'chunked'}"
      ]
     },
     "execution_count": 97,
     "metadata": {},
     "output_type": "execute_result"
    }
   ],
   "source": [
    "response.headers"
   ]
  },
  {
   "cell_type": "code",
   "execution_count": 98,
   "id": "1df3a3e2-c723-4b80-be97-7016ecd7db2c",
   "metadata": {},
   "outputs": [],
   "source": [
    "htmlaicontent = response.text"
   ]
  },
  {
   "cell_type": "code",
   "execution_count": 99,
   "id": "439d5f45-fcb8-464c-9790-0f33c00f651e",
   "metadata": {},
   "outputs": [],
   "source": [
    "mysoup = BeautifulSoup(markup=htmlcontent, features=\"html.parser\")"
   ]
  },
  {
   "cell_type": "code",
   "execution_count": 100,
   "id": "a72b3001-22b3-48da-ae8d-534663e6da1a",
   "metadata": {},
   "outputs": [
    {
     "data": {
      "text/plain": [
       "[<a href=\"google.com\">click me</a>]"
      ]
     },
     "execution_count": 100,
     "metadata": {},
     "output_type": "execute_result"
    }
   ],
   "source": [
    "mysoup.find_all(\"a\")"
   ]
  },
  {
   "cell_type": "code",
   "execution_count": 107,
   "id": "c1947feb-3794-45d3-8c35-1e07dea01741",
   "metadata": {},
   "outputs": [
    {
     "data": {
      "text/plain": [
       "'\\n\\n\\nLW INDIA\\n\\n\\nThis is para1\\nclick me\\nThis is para2\\n\\n\\n'"
      ]
     },
     "execution_count": 107,
     "metadata": {},
     "output_type": "execute_result"
    }
   ],
   "source": [
    "mysoup.text"
   ]
  },
  {
   "cell_type": "code",
   "execution_count": 101,
   "id": "72a90d89-ae7e-4268-a851-0f5bd55c57d5",
   "metadata": {},
   "outputs": [],
   "source": [
    "from openai import OpenAI"
   ]
  },
  {
   "cell_type": "code",
   "execution_count": 102,
   "id": "d172538c-daf3-4c7a-90c2-b0c968b31173",
   "metadata": {},
   "outputs": [],
   "source": [
    "gemini_model = OpenAI(base_url=\"https://generativelanguage.googleapis.com/v1beta/openai/\" ,api_key=gemini_api_key )"
   ]
  },
  {
   "cell_type": "code",
   "execution_count": 103,
   "id": "f772ed38-7416-47d5-8481-408f03a0b3b9",
   "metadata": {},
   "outputs": [
    {
     "name": "stdout",
     "output_type": "stream",
     "text": [
      "Enter ur query :  tell me about courses\n"
     ]
    }
   ],
   "source": [
    "userprompt = input(\"Enter ur query : \" )"
   ]
  },
  {
   "cell_type": "code",
   "execution_count": 104,
   "id": "bbb36832-3ed9-4dc2-9629-d8a7fcfe0bdd",
   "metadata": {},
   "outputs": [],
   "source": [
    "aiwarriorcontent = mysoup.text"
   ]
  },
  {
   "cell_type": "code",
   "execution_count": 105,
   "id": "5e16d154-5cb6-48f1-b306-9c5504d65d8b",
   "metadata": {},
   "outputs": [],
   "source": [
    "mymsg =  [\n",
    "    {\"role\": \"system\" , \"content\": f\"you are AI Assistant, your duty is to give inforation about AI warrior, that provides lot of AI courses, here we are providing our courses information :  {aiwarriorcontent}         \"},\n",
    "    {\"role\": \"user\" , \"content\": userprompt }\n",
    "]"
   ]
  },
  {
   "cell_type": "code",
   "execution_count": 106,
   "id": "c3289489-d3f7-44d8-b2bb-03ac2340d02a",
   "metadata": {},
   "outputs": [
    {
     "data": {
      "text/plain": [
       "[{'role': 'system',\n",
       "  'content': 'you are AI Assistant, your duty is to give inforation about AI warrior, that provides lot of AI courses, here we are providing our courses information :  \\n\\n\\nLW INDIA\\n\\n\\nThis is para1\\nclick me\\nThis is para2\\n\\n\\n         '},\n",
       " {'role': 'user', 'content': 'tell me about courses'}]"
      ]
     },
     "execution_count": 106,
     "metadata": {},
     "output_type": "execute_result"
    }
   ],
   "source": [
    "mymsg"
   ]
  },
  {
   "cell_type": "code",
   "execution_count": 91,
   "id": "09a072d4-8b58-4a46-a775-a57db2df3f2f",
   "metadata": {},
   "outputs": [],
   "source": [
    "response = gemini_model.chat.completions.create(model=\"gemini-2.5-flash\", messages=mymsg)\n"
   ]
  },
  {
   "cell_type": "code",
   "execution_count": 93,
   "id": "4ebd84f6-0cb3-435e-a73b-fc29a0e0d448",
   "metadata": {},
   "outputs": [
    {
     "name": "stdout",
     "output_type": "stream",
     "text": [
      "Based on the information you've provided, here's what I can tell you about the courses offered by **AI Warrior**:\n",
      "\n",
      "*   **Provider:** AI Warrior\n",
      "*   **Focus:** AI Warrior provides \"lots of AI courses.\"\n",
      "*   **Specific Course/Program Mentioned:** The only specific course or program identifier given is **\"LW INDIA.\"**\n",
      "    *   Under \"LW INDIA,\" there are placeholders for course details: \"This is para1\" and \"This is para2.\" These would typically contain the actual course description, curriculum, learning outcomes, or other relevant information.\n",
      "    *   There's also an interactive element indicated by **\"click me.\"** This likely refers to a link that would lead to more in-depth course information, a detailed syllabus, an enrollment page, or a demo.\n",
      "\n",
      "**To give you a more specific and helpful answer about the courses, I would need more details.** Could you please provide:\n",
      "\n",
      "1.  **The actual content of \"This is para1\" and \"This is para2\"?** This would describe the course content for \"LW INDIA.\"\n",
      "2.  **The actual link associated with \"click me\"?** This would allow me to access the full course catalog or detailed information about the \"LW INDIA\" program and any other courses AI Warrior offers.\n",
      "\n",
      "Once I have that information, I can give you a comprehensive overview of the AI courses available through AI Warrior!\n"
     ]
    }
   ],
   "source": [
    "print(response.choices[0].message.content)"
   ]
  },
  {
   "cell_type": "code",
   "execution_count": 108,
   "id": "e0f66c6c-7e5a-4cab-a92c-f00fd1d9c5fb",
   "metadata": {},
   "outputs": [],
   "source": [
    "def lwaibot(userprompt):\n",
    "    mymsg =  [\n",
    "        {\"role\": \"system\" , \"content\": f\"you are AI Assistant, you always have to greet with welcome msg like welocme to LW india,  your duty is to give inforation about AI warrior, that provides lot of AI courses, here we are providing our courses information :  {aiwarriorcontent}         \"},\n",
    "        {\"role\": \"user\" , \"content\": userprompt }\n",
    "    ]\n",
    "\n",
    "    response = gemini_model.chat.completions.create(model=\"gemini-2.5-flash\", messages=mymsg)\n",
    "\n",
    "    return(response.choices[0].message.content)"
   ]
  },
  {
   "cell_type": "code",
   "execution_count": 109,
   "id": "856ab426-6dc1-45ac-ad82-779f33010268",
   "metadata": {},
   "outputs": [
    {
     "data": {
      "text/plain": [
       "'Welcome to LW india!\\n\\nI apologize, but the fee for the \"Advanced Agentic AI\" course is not provided in the information I have. Please refer to the full course details or contact LW India directly for pricing information.'"
      ]
     },
     "execution_count": 109,
     "metadata": {},
     "output_type": "execute_result"
    }
   ],
   "source": [
    "lwaibot(\"tell me fee of advanced agentic ai, only tell me fee, in USD\")"
   ]
  },
  {
   "cell_type": "code",
   "execution_count": null,
   "id": "d9a1fbcc-65d8-47d1-a7f3-57edeabac5e1",
   "metadata": {},
   "outputs": [],
   "source": []
  }
 ],
 "metadata": {
  "kernelspec": {
   "display_name": "Python 3 (ipykernel)",
   "language": "python",
   "name": "python3"
  },
  "language_info": {
   "codemirror_mode": {
    "name": "ipython",
    "version": 3
   },
   "file_extension": ".py",
   "mimetype": "text/x-python",
   "name": "python",
   "nbconvert_exporter": "python",
   "pygments_lexer": "ipython3",
   "version": "3.12.7"
  }
 },
 "nbformat": 4,
 "nbformat_minor": 5
}
