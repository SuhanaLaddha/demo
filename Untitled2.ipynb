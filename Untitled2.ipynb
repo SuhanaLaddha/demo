{
 "cells": [
  {
   "cell_type": "code",
   "execution_count": 1,
   "id": "1634713a-1a0a-4ccf-9971-a48d44fbfc0e",
   "metadata": {},
   "outputs": [],
   "source": [
    "import smtplib\n",
    "from email.message import EmailMessage\n",
    "import ssl\n"
   ]
  },
  {
   "cell_type": "code",
   "execution_count": null,
   "id": "bd9c68d7-0cee-4400-83f1-dc453d179d28",
   "metadata": {},
   "outputs": [],
   "source": [
    "sender_email = \"your_email@gmail.com\"\n",
    "app_password = \"your_app_password\" \n",
    "receiver_email = \"recipient@example.com\" "
   ]
  }
 ],
 "metadata": {
  "kernelspec": {
   "display_name": "Python 3 (ipykernel)",
   "language": "python",
   "name": "python3"
  },
  "language_info": {
   "codemirror_mode": {
    "name": "ipython",
    "version": 3
   },
   "file_extension": ".py",
   "mimetype": "text/x-python",
   "name": "python",
   "nbconvert_exporter": "python",
   "pygments_lexer": "ipython3",
   "version": "3.12.7"
  }
 },
 "nbformat": 4,
 "nbformat_minor": 5
}
