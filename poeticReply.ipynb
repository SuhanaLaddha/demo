{
 "cells": [
  {
   "cell_type": "code",
   "execution_count": 1,
   "id": "340c6e5b-31cf-481c-a332-4ef98dc8e794",
   "metadata": {},
   "outputs": [
    {
     "name": "stdin",
     "output_type": "stream",
     "text": [
      "📨 Enter the incoming message:\n",
      " fire\n"
     ]
    },
    {
     "name": "stdout",
     "output_type": "stream",
     "text": [
      "\n",
      "💌 Poetic Auto-Reply:\n",
      "------------------------------\n",
      "I read your note — it felt so light.\n",
      "Take a breath, it’ll be all right.\n",
      "~ Auto-Poet 🤖\n"
     ]
    }
   ],
   "source": [
    "import random\n",
    "\n",
    "# Short rhyming phrases to use\n",
    "rhymes = [\n",
    "    (\"light\", \"Take a breath, it’ll be all right.\"),\n",
    "    (\"fire\", \"Let your dreams lift you higher.\"),\n",
    "    (\"flow\", \"Keep calm and let it go.\"),\n",
    "    (\"blue\", \"Brighter skies await you too.\"),\n",
    "    (\"day\", \"Hope will guide you on your way.\"),\n",
    "    (\"deep\", \"Let your soul rise from the deep.\"),\n",
    "    (\"night\", \"You'll soon wake into the light.\")\n",
    "]\n",
    "\n",
    "# Simple poetic reply builder\n",
    "def generate_poetic_reply(message):\n",
    "    theme = random.choice(rhymes)\n",
    "    line1 = f\"I read your note — it felt so {theme[0]}.\"\n",
    "    line2 = theme[1]\n",
    "    reply = f\"{line1}\\n{line2}\\n~ Auto-Poet 🤖\"\n",
    "    return reply\n",
    "\n",
    "# Input your message\n",
    "incoming = input(\"📨 Enter the incoming message:\\n\")\n",
    "response = generate_poetic_reply(incoming)\n",
    "print(\"\\n💌 Poetic Auto-Reply:\\n\" + \"-\"*30)\n",
    "print(response)\n"
   ]
  },
  {
   "cell_type": "code",
   "execution_count": null,
   "id": "f0942c74-19b0-4891-b644-b30050b21945",
   "metadata": {},
   "outputs": [],
   "source": []
  }
 ],
 "metadata": {
  "kernelspec": {
   "display_name": "Python 3 (ipykernel)",
   "language": "python",
   "name": "python3"
  },
  "language_info": {
   "codemirror_mode": {
    "name": "ipython",
    "version": 3
   },
   "file_extension": ".py",
   "mimetype": "text/x-python",
   "name": "python",
   "nbconvert_exporter": "python",
   "pygments_lexer": "ipython3",
   "version": "3.12.7"
  }
 },
 "nbformat": 4,
 "nbformat_minor": 5
}
