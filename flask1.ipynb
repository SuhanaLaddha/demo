{
 "cells": [
  {
   "cell_type": "code",
   "execution_count": 1,
   "id": "e1d0483f-4c57-4ae8-8e9d-a61c8a9dee8e",
   "metadata": {},
   "outputs": [],
   "source": [
    "from flask import Flask,request"
   ]
  },
  {
   "cell_type": "code",
   "execution_count": 2,
   "id": "dc4844be-f0f7-4eac-80b9-e896e8cc2db0",
   "metadata": {},
   "outputs": [],
   "source": [
    "myapp = Flask(__name__)"
   ]
  },
  {
   "cell_type": "code",
   "execution_count": 3,
   "id": "016217b8-c1e2-4eff-8edf-d1490c879049",
   "metadata": {},
   "outputs": [],
   "source": [
    "\"/info\"\n",
    "def lwinfo():\n",
    "    return \"This is LW\""
   ]
  },
  {
   "cell_type": "code",
   "execution_count": 4,
   "id": "f3cfb3e4-365f-4a36-b37d-a98d4bfdd0b1",
   "metadata": {},
   "outputs": [],
   "source": [
    "@myapp.route(\"/info\")\n",
    "def lwinfo():\n",
    "    return \"This is LW\""
   ]
  },
  {
   "cell_type": "code",
   "execution_count": 5,
   "id": "bba692be-b356-4139-998a-e3d74eae605a",
   "metadata": {},
   "outputs": [],
   "source": [
    "@myapp.route(\"/mail\")\n",
    "def lwmail():\n",
    "    return \"This is mail\""
   ]
  },
  {
   "cell_type": "code",
   "execution_count": 6,
   "id": "c47c06ea-f052-4118-86e9-65666c5bf48c",
   "metadata": {},
   "outputs": [],
   "source": [
    "@myapp.route(\"/me\")\n",
    "def tellaboutme():\n",
    "    n = request.args.get(\"x\")\n",
    "    \n",
    "    return f\"I am {n}\""
   ]
  },
  {
   "cell_type": "code",
   "execution_count": null,
   "id": "34eed5a2-4aec-4033-99a2-58489d3eac01",
   "metadata": {},
   "outputs": [
    {
     "name": "stdout",
     "output_type": "stream",
     "text": [
      " * Serving Flask app '__main__'\n",
      " * Debug mode: off\n"
     ]
    },
    {
     "name": "stderr",
     "output_type": "stream",
     "text": [
      "WARNING: This is a development server. Do not use it in a production deployment. Use a production WSGI server instead.\n",
      " * Running on http://127.0.0.1:5000\n",
      "Press CTRL+C to quit\n",
      "127.0.0.1 - - [05/Jul/2025 15:15:44] \"GET /me HTTP/1.1\" 200 -\n",
      "127.0.0.1 - - [05/Jul/2025 15:15:50] \"GET /me HTTP/1.1\" 200 -\n",
      "127.0.0.1 - - [05/Jul/2025 15:15:50] \"GET /me HTTP/1.1\" 200 -\n",
      "127.0.0.1 - - [05/Jul/2025 15:16:07] \"GET /me HTTP/1.1\" 200 -\n",
      "127.0.0.1 - - [05/Jul/2025 15:16:07] \"GET /me HTTP/1.1\" 200 -\n",
      "127.0.0.1 - - [05/Jul/2025 15:16:07] \"GET /me HTTP/1.1\" 200 -\n",
      "127.0.0.1 - - [05/Jul/2025 15:16:08] \"GET /me HTTP/1.1\" 200 -\n",
      "127.0.0.1 - - [05/Jul/2025 15:16:43] \"GET /me HTTP/1.1\" 200 -\n",
      "127.0.0.1 - - [05/Jul/2025 15:16:44] \"GET /me HTTP/1.1\" 200 -\n",
      "127.0.0.1 - - [05/Jul/2025 15:16:44] \"GET /me HTTP/1.1\" 200 -\n",
      "127.0.0.1 - - [05/Jul/2025 15:16:45] \"GET /me HTTP/1.1\" 200 -\n",
      "127.0.0.1 - - [05/Jul/2025 15:17:01] \"GET /me HTTP/1.1\" 200 -\n",
      "127.0.0.1 - - [05/Jul/2025 16:08:44] \"GET /me HTTP/1.1\" 200 -\n",
      "127.0.0.1 - - [05/Jul/2025 16:08:44] \"GET /me HTTP/1.1\" 200 -\n"
     ]
    }
   ],
   "source": [
    "myapp.run()"
   ]
  },
  {
   "cell_type": "code",
   "execution_count": null,
   "id": "578c8721-9c42-43ea-b3b0-6ed6500942ac",
   "metadata": {},
   "outputs": [],
   "source": []
  }
 ],
 "metadata": {
  "kernelspec": {
   "display_name": "Python 3 (ipykernel)",
   "language": "python",
   "name": "python3"
  },
  "language_info": {
   "codemirror_mode": {
    "name": "ipython",
    "version": 3
   },
   "file_extension": ".py",
   "mimetype": "text/x-python",
   "name": "python",
   "nbconvert_exporter": "python",
   "pygments_lexer": "ipython3",
   "version": "3.12.7"
  }
 },
 "nbformat": 4,
 "nbformat_minor": 5
}
