{
 "cells": [
  {
   "cell_type": "code",
   "execution_count": null,
   "id": "fff9d2a8-bae0-4378-9350-ec2c2d79bad8",
   "metadata": {},
   "outputs": [
    {
     "name": "stdout",
     "output_type": "stream",
     "text": [
      "🔐 Welcome to the Surprise Unlock Box!\n",
      "To unlock, answer this riddle correctly:\n",
      "\n",
      "🧠 Riddle: What has keys but can't open locks?\n"
     ]
    }
   ],
   "source": [
    "import random\n",
    "\n",
    "# 🎁 Surprises (quotes, messages, jokes)\n",
    "surprises = [\n",
    "    \"🌟 You are braver than you believe.\",\n",
    "    \"😂 Why don’t scientists trust atoms? Because they make up everything!\",\n",
    "    \"🎉 You’ve unlocked a secret dance party (in your mind).\",\n",
    "    \"📚 Here’s a wisdom drop: 'The quieter you become, the more you can hear.'\",\n",
    "    \"💡 The surprise is... you did it. That’s enough. 🙌\"\n",
    "]\n",
    "\n",
    "# 🧩 Challenge (simple riddle)\n",
    "def unlock_box():\n",
    "    print(\"🔐 Welcome to the Surprise Unlock Box!\")\n",
    "    print(\"To unlock, answer this riddle correctly:\\n\")\n",
    "\n",
    "    print(\"🧠 Riddle: What has keys but can't open locks?\")\n",
    "    answer = input(\"Your answer: \").strip().lower()\n",
    "\n",
    "    if \"piano\" in answer:\n",
    "        print(\"\\n✅ Correct! Unlocking your surprise...\")\n",
    "        print(\"🎁 \" + random.choice(surprises))\n",
    "    else:\n",
    "        print(\"❌ Nope! Try again later. Hint: it's musical 🎹\")\n",
    "\n",
    "# Run it\n",
    "unlock_box()\n"
   ]
  },
  {
   "cell_type": "code",
   "execution_count": null,
   "id": "62ca1651-cf1c-4217-b07b-88b27fbc780e",
   "metadata": {},
   "outputs": [],
   "source": []
  }
 ],
 "metadata": {
  "kernelspec": {
   "display_name": "Python 3 (ipykernel)",
   "language": "python",
   "name": "python3"
  },
  "language_info": {
   "codemirror_mode": {
    "name": "ipython",
    "version": 3
   },
   "file_extension": ".py",
   "mimetype": "text/x-python",
   "name": "python",
   "nbconvert_exporter": "python",
   "pygments_lexer": "ipython3",
   "version": "3.12.7"
  }
 },
 "nbformat": 4,
 "nbformat_minor": 5
}
