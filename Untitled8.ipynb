{
 "cells": [
  {
   "cell_type": "code",
   "execution_count": 1,
   "id": "6d83417b-9d94-4a9b-bcc8-cc0cc7a2a97a",
   "metadata": {},
   "outputs": [
    {
     "name": "stdout",
     "output_type": "stream",
     "text": [
      "NumPy Array: [10 20 30 40 50]\n",
      "Size of array: 5\n",
      "Shape of array: (5,)\n",
      "First 3 elements: [10 20 30]\n",
      "Array of zeros: [0. 0. 0. 0. 0.]\n",
      "Array of ones (optional): [1. 1. 1. 1. 1.]\n"
     ]
    }
   ],
   "source": [
    "import numpy as np\n",
    "\n",
    "py_list = [10, 20, 30, 40, 50]\n",
    "np_array = np.array(py_list)\n",
    "print(\"NumPy Array:\", np_array)\n",
    "\n",
    "print(\"Size of array:\", np_array.size)\n",
    "print(\"Shape of array:\", np_array.shape)\n",
    "\n",
    "first_three = np_array[:3]\n",
    "print(\"First 3 elements:\", first_three)\n",
    "\n",
    "zeros_array = np.zeros(5) \n",
    "print(\"Array of zeros:\", zeros_array)\n",
    "\n",
    "ones_array = np.ones(5)\n",
    "print(\"Array of ones (optional):\", ones_array)"
   ]
  },
  {
   "cell_type": "code",
   "execution_count": null,
   "id": "3a00ca13-4283-4533-80be-21e552663b6e",
   "metadata": {},
   "outputs": [],
   "source": []
  }
 ],
 "metadata": {
  "kernelspec": {
   "display_name": "Python 3 (ipykernel)",
   "language": "python",
   "name": "python3"
  },
  "language_info": {
   "codemirror_mode": {
    "name": "ipython",
    "version": 3
   },
   "file_extension": ".py",
   "mimetype": "text/x-python",
   "name": "python",
   "nbconvert_exporter": "python",
   "pygments_lexer": "ipython3",
   "version": "3.12.7"
  }
 },
 "nbformat": 4,
 "nbformat_minor": 5
}
