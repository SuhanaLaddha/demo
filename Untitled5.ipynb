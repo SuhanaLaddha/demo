{
 "cells": [
  {
   "cell_type": "code",
   "execution_count": null,
   "id": "037b1de7-1b6c-43e7-860b-ce43f70e5eda",
   "metadata": {},
   "outputs": [
    {
     "name": "stdout",
     "output_type": "stream",
     "text": [
      "================================\u001b[1m Human Message \u001b[0m=================================\n",
      "\n",
      "Download the README here and identify the link for LangChain tutorials: https://raw.githubusercontent.com/langchain-ai/langchain/master/README.md\n"
     ]
    },
    {
     "name": "stderr",
     "output_type": "stream",
     "text": [
      "C:\\Users\\laddh\\anaconda3\\Lib\\site-packages\\langchain_google_genai\\chat_models.py:483: UserWarning: Convert_system_message_to_human will be deprecated!\n",
      "  warnings.warn(\"Convert_system_message_to_human will be deprecated!\")\n"
     ]
    },
    {
     "name": "stdout",
     "output_type": "stream",
     "text": [
      "==================================\u001b[1m Ai Message \u001b[0m==================================\n",
      "Tool Calls:\n",
      "  terminal (217bf1f7-0d6c-46ef-ba87-aa25cfafee40)\n",
      " Call ID: 217bf1f7-0d6c-46ef-ba87-aa25cfafee40\n",
      "  Args:\n",
      "    commands: ['curl -s https://raw.githubusercontent.com/langchain-ai/langchain/master/README.md']\n",
      "Executing command:\n",
      " ['curl -s https://raw.githubusercontent.com/langchain-ai/langchain/master/README.md']\n"
     ]
    },
    {
     "name": "stderr",
     "output_type": "stream",
     "text": [
      "C:\\Users\\laddh\\anaconda3\\Lib\\site-packages\\langchain_community\\tools\\shell\\tool.py:33: UserWarning: The shell tool has no safeguards by default. Use at your own risk.\n",
      "  warnings.warn(\n"
     ]
    },
    {
     "name": "stdout",
     "output_type": "stream",
     "text": [
      "=================================\u001b[1m Tool Message \u001b[0m=================================\n",
      "Name: terminal\n",
      "\n",
      "<picture>\n",
      "  <source media=\"(prefers-color-scheme: light)\" srcset=\"docs/static/img/logo-dark.svg\">\n",
      "  <source media=\"(prefers-color-scheme: dark)\" srcset=\"docs/static/img/logo-light.svg\">\n",
      "  <img alt=\"LangChain Logo\" src=\"docs/static/img/logo-dark.svg\" width=\"80%\">\n",
      "</picture>\n",
      "\n",
      "<div>\n",
      "<br>\n",
      "</div>\n",
      "\n",
      "[![Release Notes](https://img.shields.io/github/release/langchain-ai/langchain?style=flat-square)](https://github.com/langchain-ai/langchain/releases)\n",
      "[![CI](https://github.com/langchain-ai/langchain/actions/workflows/check_diffs.yml/badge.svg)](https://github.com/langchain-ai/langchain/actions/workflows/check_diffs.yml)\n",
      "[![PyPI - License](https://img.shields.io/pypi/l/langchain-core?style=flat-square)](https://opensource.org/licenses/MIT)\n",
      "[![PyPI - Downloads](https://img.shields.io/pypi/dm/langchain-core?style=flat-square)](https://pypistats.org/packages/langchain-core)\n",
      "[![GitHub star chart](https://img.shields.io/github/stars/langchain-ai/langchain?style=flat-square)](https://star-history.com/#langchain-ai/langchain)\n",
      "[![Open Issues](https://img.shields.io/github/issues-raw/langchain-ai/langchain?style=flat-square)](https://github.com/langchain-ai/langchain/issues)\n",
      "[![Open in Dev Containers](https://img.shields.io/static/v1?label=Dev%20Containers&message=Open&color=blue&logo=visualstudiocode&style=flat-square)](https://vscode.dev/redirect?url=vscode://ms-vscode-remote.remote-containers/cloneInVolume?url=https://github.com/langchain-ai/langchain)\n",
      "[<img src=\"https://github.com/codespaces/badge.svg\" title=\"Open in Github Codespace\" width=\"150\" height=\"20\">](https://codespaces.new/langchain-ai/langchain)\n",
      "[![Twitter](https://img.shields.io/twitter/url/https/twitter.com/langchainai.svg?style=social&label=Follow%20%40LangChainAI)](https://twitter.com/langchainai)\n",
      "[![CodSpeed Badge](https://img.shields.io/endpoint?url=https://codspeed.io/badge.json)](https://codspeed.io/langchain-ai/langchain)\n",
      "\n",
      "> [!NOTE]\n",
      "> Looking for the JS/TS library? Check out [LangChain.js](https://github.com/langchain-ai/langchainjs).\n",
      "\n",
      "LangChain is a framework for building LLM-powered applications. It helps you chain\n",
      "together interoperable components and third-party integrations to simplify AI\n",
      "application development —  all while future-proofing decisions as the underlying\n",
      "technology evolves.\n",
      "\n",
      "```bash\n",
      "pip install -U langchain\n",
      "```\n",
      "\n",
      "To learn more about LangChain, check out\n",
      "[the docs](https://python.langchain.com/docs/introduction/). If you’re looking for more\n",
      "advanced customization or agent orchestration, check out\n",
      "[LangGraph](https://langchain-ai.github.io/langgraph/), our framework for building\n",
      "controllable agent workflows.\n",
      "\n",
      "## Why use LangChain?\n",
      "\n",
      "LangChain helps developers build applications powered by LLMs through a standard\n",
      "interface for models, embeddings, vector stores, and more. \n",
      "\n",
      "Use LangChain for:\n",
      "- **Real-time data augmentation**. Easily connect LLMs to diverse data sources and\n",
      "external / internal systems, drawing from LangChain’s vast library of integrations with\n",
      "model providers, tools, vector stores, retrievers, and more.\n",
      "- **Model interoperability**. Swap models in and out as your engineering team\n",
      "experiments to find the best choice for your application’s needs. As the industry\n",
      "frontier evolves, adapt quickly — LangChain’s abstractions keep you moving without\n",
      "losing momentum.\n",
      "\n",
      "## LangChain’s ecosystem\n",
      "While the LangChain framework can be used standalone, it also integrates seamlessly\n",
      "with any LangChain product, giving developers a full suite of tools when building LLM\n",
      "applications. \n",
      "\n",
      "To improve your LLM application development, pair LangChain with:\n",
      "\n",
      "- [LangSmith](http://www.langchain.com/langsmith) - Helpful for agent evals and\n",
      "observability. Debug poor-performing LLM app runs, evaluate agent trajectories, gain\n",
      "visibility in production, and improve performance over time.\n",
      "- [LangGraph](https://langchain-ai.github.io/langgraph/) - Build agents that can\n",
      "reliably handle complex tasks with LangGraph, our low-level agent orchestration\n",
      "framework. LangGraph offers customizable architecture, long-term memory, and\n",
      "human-in-the-loop workflows — and is trusted in production by companies like LinkedIn,\n",
      "Uber, Klarna, and GitLab.\n",
      "- [LangGraph Platform](https://langchain-ai.github.io/langgraph/concepts/langgraph_platform/) - Deploy\n",
      "and scale agents effortlessly with a purpose-built deployment platform for long\n",
      "running, stateful workflows. Discover, reuse, configure, and share agents across\n",
      "teams — and iterate quickly with visual prototyping in\n",
      "[LangGraph Studio](https://langchain-ai.github.io/langgraph/concepts/langgraph_studio/).\n",
      "\n",
      "## Additional resources\n",
      "- [Tutorials](https://python.langchain.com/docs/tutorials/): Simple walkthroughs with\n",
      "guided examples on getting started with LangChain.\n",
      "- [How-to Guides](https://python.langchain.com/docs/how_to/): Quick, actionable code\n",
      "snippets for topics such as tool calling, RAG use cases, and more.\n",
      "- [Conceptual Guides](https://python.langchain.com/docs/concepts/): Explanations of key\n",
      "concepts behind the LangChain framework.\n",
      "- [API Reference](https://python.langchain.com/api_reference/): Detailed reference on\n",
      "navigating base packages and integrations for LangChain.\n",
      "\n"
     ]
    },
    {
     "name": "stderr",
     "output_type": "stream",
     "text": [
      "C:\\Users\\laddh\\anaconda3\\Lib\\site-packages\\langchain_google_genai\\chat_models.py:483: UserWarning: Convert_system_message_to_human will be deprecated!\n",
      "  warnings.warn(\"Convert_system_message_to_human will be deprecated!\")\n"
     ]
    },
    {
     "name": "stdout",
     "output_type": "stream",
     "text": [
      "==================================\u001b[1m Ai Message \u001b[0m==================================\n",
      "\n",
      "The link for LangChain tutorials is: https://python.langchain.com/docs/tutorials/\n"
     ]
    }
   ],
   "source": [
    "from langgraph.prebuilt import create_react_agent\n",
    "from langchain_google_genai import ChatGoogleGenerativeAI\n",
    "from langchain.tools.shell.tool import ShellTool  \n",
    "\n",
    "llm = ChatGoogleGenerativeAI(\n",
    "    model=\"gemini-2.0-flash\",\n",
    "    google_api_key=\"xxxxxxxxx\",\n",
    "    convert_system_message_to_human=True,\n",
    "    temperature=0.7\n",
    ")\n",
    "\n",
    "shell_tool = ShellTool()\n",
    "tools = [shell_tool]\n",
    "\n",
    "# 3. Create the agent using Gemini model\n",
    "agent = create_react_agent(llm, tools)\n",
    "\n",
    "# 4. Input message\n",
    "input_message = {\n",
    "    \"role\": \"user\",\n",
    "    \"content\": (\n",
    "        \"Download the README here and identify the link for LangChain tutorials: \"\n",
    "        \"https://raw.githubusercontent.com/langchain-ai/langchain/master/README.md\"\n",
    "    ),\n",
    "}\n",
    "\n",
    "# 5. Stream response\n",
    "for step in agent.stream(\n",
    "    {\"messages\": [input_message]},\n",
    "    stream_mode=\"values\",\n",
    "):\n",
    "    step[\"messages\"][-1].pretty_print()"
   ]
  },
  {
   "cell_type": "code",
   "execution_count": null,
   "id": "5af88d7b-694c-48a2-a9e4-8fc101df5054",
   "metadata": {},
   "outputs": [],
   "source": []
  }
 ],
 "metadata": {
  "kernelspec": {
   "display_name": "Python 3 (ipykernel)",
   "language": "python",
   "name": "python3"
  },
  "language_info": {
   "codemirror_mode": {
    "name": "ipython",
    "version": 3
   },
   "file_extension": ".py",
   "mimetype": "text/x-python",
   "name": "python",
   "nbconvert_exporter": "python",
   "pygments_lexer": "ipython3",
   "version": "3.12.7"
  }
 },
 "nbformat": 4,
 "nbformat_minor": 5
}
