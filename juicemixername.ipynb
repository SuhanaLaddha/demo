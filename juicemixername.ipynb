{
 "cells": [
  {
   "cell_type": "code",
   "execution_count": 5,
   "id": "51157d8d-26c5-49ac-a337-e9257791f118",
   "metadata": {},
   "outputs": [
    {
     "name": "stdin",
     "output_type": "stream",
     "text": [
      "🥭 Enter fruits you have (comma-separated):\n",
      " mango, banana, apple\n"
     ]
    },
    {
     "name": "stdout",
     "output_type": "stream",
     "text": [
      "\n",
      "🍹 Your Juice Mix:\n",
      "✨ Ingredients: mango, banana, apple\n",
      "💡 Name: Sunset Wave\n"
     ]
    }
   ],
   "source": [
    "import random\n",
    "\n",
    "# Sample drink names by vibe\n",
    "adjectives = [\"Tropical\", \"Frozen\", \"Zesty\", \"Velvet\", \"Sunset\", \"Electric\", \"Smooth\", \"Punchy\", \"Bliss\"]\n",
    "nouns = [\"Twist\", \"Blast\", \"Storm\", \"Rush\", \"Dream\", \"Wave\", \"Whirl\", \"Pop\", \"Fusion\"]\n",
    "\n",
    "# Fruits and ingredients (you can expand this)\n",
    "available_fruits = [\n",
    "    \"mango\", \"banana\", \"orange\", \"pineapple\", \"apple\", \"kiwi\",\n",
    "    \"watermelon\", \"strawberry\", \"blueberry\", \"papaya\", \"grapes\"\n",
    "]\n",
    "\n",
    "# Suggest a combo\n",
    "def suggest_juice(user_fruits):\n",
    "    chosen = [fruit for fruit in user_fruits if fruit in available_fruits]\n",
    "    if len(chosen) < 2:\n",
    "        print(\"🍋 Not enough fruits to mix! Try at least 2 from:\", ', '.join(available_fruits))\n",
    "        return\n",
    "\n",
    "    # Randomly pick 2–3 fruits\n",
    "    combo = random.sample(chosen, min(3, len(chosen)))\n",
    "    name = f\"{random.choice(adjectives)} {random.choice(nouns)}\"\n",
    "    \n",
    "    print(\"\\n🍹 Your Juice Mix:\")\n",
    "    print(\"✨ Ingredients:\", ', '.join(combo))\n",
    "    print(\"💡 Name:\", name)\n",
    "\n",
    "# Ask user\n",
    "user_input = input(\"🥭 Enter fruits you have (comma-separated):\\n\").lower()\n",
    "user_fruits = [f.strip() for f in user_input.split(\",\")]\n",
    "\n",
    "suggest_juice(user_fruits)\n",
    "\n"
   ]
  },
  {
   "cell_type": "code",
   "execution_count": null,
   "id": "b81c84a1-dee7-49dd-8a74-8e6cded0a269",
   "metadata": {},
   "outputs": [],
   "source": []
  }
 ],
 "metadata": {
  "kernelspec": {
   "display_name": "Python 3 (ipykernel)",
   "language": "python",
   "name": "python3"
  },
  "language_info": {
   "codemirror_mode": {
    "name": "ipython",
    "version": 3
   },
   "file_extension": ".py",
   "mimetype": "text/x-python",
   "name": "python",
   "nbconvert_exporter": "python",
   "pygments_lexer": "ipython3",
   "version": "3.12.7"
  }
 },
 "nbformat": 4,
 "nbformat_minor": 5
}
