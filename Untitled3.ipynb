{
 "cells": [
  {
   "cell_type": "code",
   "execution_count": null,
   "id": "7380e7a5-143c-41a0-8762-fd58745d32f0",
   "metadata": {},
   "outputs": [
    {
     "ename": "TwilioRestException",
     "evalue": "HTTP 400 error: Unable to create record: The 'To' number whatsapp:‪+9198555075553‬ is not a valid phone number.",
     "output_type": "error",
     "traceback": [
      "\u001b[1;31m---------------------------------------------------------------------------\u001b[0m",
      "\u001b[1;31mTwilioRestException\u001b[0m                       Traceback (most recent call last)",
      "Cell \u001b[1;32mIn[4], line 8\u001b[0m\n\u001b[0;32m      4\u001b[0m auth_token \u001b[38;5;241m=\u001b[39m \u001b[38;5;124m'\u001b[39m\u001b[38;5;124m515afe3f0d77582ae6ecdc5e8f287dcc\u001b[39m\u001b[38;5;124m'\u001b[39m\n\u001b[0;32m      6\u001b[0m client \u001b[38;5;241m=\u001b[39m Client(account_sid, auth_token)\n\u001b[1;32m----> 8\u001b[0m message \u001b[38;5;241m=\u001b[39m client\u001b[38;5;241m.\u001b[39mmessages\u001b[38;5;241m.\u001b[39mcreate(\n\u001b[0;32m      9\u001b[0m     body\u001b[38;5;241m=\u001b[39m\u001b[38;5;124m\"\u001b[39m\u001b[38;5;124m Hello! This is a WhatsApp message from Python \u001b[39m\u001b[38;5;124m\"\u001b[39m,\n\u001b[0;32m     10\u001b[0m     from_\u001b[38;5;241m=\u001b[39m\u001b[38;5;124m'\u001b[39m\u001b[38;5;124mwhatsapp:‪+19206103304‬\u001b[39m\u001b[38;5;124m'\u001b[39m,  \n\u001b[0;32m     11\u001b[0m     to\u001b[38;5;241m=\u001b[39m\u001b[38;5;124m'\u001b[39m\u001b[38;5;124mwhatsapp:‪+9198555075553‬\u001b[39m\u001b[38;5;124m'\u001b[39m     \n\u001b[0;32m     12\u001b[0m )\n\u001b[0;32m     14\u001b[0m \u001b[38;5;28mprint\u001b[39m(\u001b[38;5;124m\"\u001b[39m\u001b[38;5;124m WhatsApp message sent Message SID:\u001b[39m\u001b[38;5;124m\"\u001b[39m, message\u001b[38;5;241m.\u001b[39msid)\n",
      "File \u001b[1;32m~\\anaconda3\\Lib\\site-packages\\twilio\\rest\\api\\v2010\\account\\message\\__init__.py:589\u001b[0m, in \u001b[0;36mMessageList.create\u001b[1;34m(self, to, status_callback, application_sid, max_price, provide_feedback, attempt, validity_period, force_delivery, content_retention, address_retention, smart_encoded, persistent_action, traffic_type, shorten_urls, schedule_type, send_at, send_as_mms, content_variables, risk_check, from_, messaging_service_sid, body, media_url, content_sid)\u001b[0m\n\u001b[0;32m    585\u001b[0m headers[\u001b[38;5;124m\"\u001b[39m\u001b[38;5;124mContent-Type\u001b[39m\u001b[38;5;124m\"\u001b[39m] \u001b[38;5;241m=\u001b[39m \u001b[38;5;124m\"\u001b[39m\u001b[38;5;124mapplication/x-www-form-urlencoded\u001b[39m\u001b[38;5;124m\"\u001b[39m\n\u001b[0;32m    587\u001b[0m headers[\u001b[38;5;124m\"\u001b[39m\u001b[38;5;124mAccept\u001b[39m\u001b[38;5;124m\"\u001b[39m] \u001b[38;5;241m=\u001b[39m \u001b[38;5;124m\"\u001b[39m\u001b[38;5;124mapplication/json\u001b[39m\u001b[38;5;124m\"\u001b[39m\n\u001b[1;32m--> 589\u001b[0m payload \u001b[38;5;241m=\u001b[39m \u001b[38;5;28mself\u001b[39m\u001b[38;5;241m.\u001b[39m_version\u001b[38;5;241m.\u001b[39mcreate(\n\u001b[0;32m    590\u001b[0m     method\u001b[38;5;241m=\u001b[39m\u001b[38;5;124m\"\u001b[39m\u001b[38;5;124mPOST\u001b[39m\u001b[38;5;124m\"\u001b[39m, uri\u001b[38;5;241m=\u001b[39m\u001b[38;5;28mself\u001b[39m\u001b[38;5;241m.\u001b[39m_uri, data\u001b[38;5;241m=\u001b[39mdata, headers\u001b[38;5;241m=\u001b[39mheaders\n\u001b[0;32m    591\u001b[0m )\n\u001b[0;32m    593\u001b[0m \u001b[38;5;28;01mreturn\u001b[39;00m MessageInstance(\n\u001b[0;32m    594\u001b[0m     \u001b[38;5;28mself\u001b[39m\u001b[38;5;241m.\u001b[39m_version, payload, account_sid\u001b[38;5;241m=\u001b[39m\u001b[38;5;28mself\u001b[39m\u001b[38;5;241m.\u001b[39m_solution[\u001b[38;5;124m\"\u001b[39m\u001b[38;5;124maccount_sid\u001b[39m\u001b[38;5;124m\"\u001b[39m]\n\u001b[0;32m    595\u001b[0m )\n",
      "File \u001b[1;32m~\\anaconda3\\Lib\\site-packages\\twilio\\base\\version.py:463\u001b[0m, in \u001b[0;36mVersion.create\u001b[1;34m(self, method, uri, params, data, headers, auth, timeout, allow_redirects)\u001b[0m\n\u001b[0;32m    450\u001b[0m \u001b[38;5;250m\u001b[39m\u001b[38;5;124;03m\"\"\"\u001b[39;00m\n\u001b[0;32m    451\u001b[0m \u001b[38;5;124;03mCreate a resource instance.\u001b[39;00m\n\u001b[0;32m    452\u001b[0m \u001b[38;5;124;03m\"\"\"\u001b[39;00m\n\u001b[0;32m    453\u001b[0m response \u001b[38;5;241m=\u001b[39m \u001b[38;5;28mself\u001b[39m\u001b[38;5;241m.\u001b[39mrequest(\n\u001b[0;32m    454\u001b[0m     method,\n\u001b[0;32m    455\u001b[0m     uri,\n\u001b[1;32m   (...)\u001b[0m\n\u001b[0;32m    461\u001b[0m     allow_redirects\u001b[38;5;241m=\u001b[39mallow_redirects,\n\u001b[0;32m    462\u001b[0m )\n\u001b[1;32m--> 463\u001b[0m \u001b[38;5;28;01mreturn\u001b[39;00m \u001b[38;5;28mself\u001b[39m\u001b[38;5;241m.\u001b[39m_parse_create(method, uri, response)\n",
      "File \u001b[1;32m~\\anaconda3\\Lib\\site-packages\\twilio\\base\\version.py:435\u001b[0m, in \u001b[0;36mVersion._parse_create\u001b[1;34m(self, method, uri, response)\u001b[0m\n\u001b[0;32m    431\u001b[0m \u001b[38;5;250m\u001b[39m\u001b[38;5;124;03m\"\"\"\u001b[39;00m\n\u001b[0;32m    432\u001b[0m \u001b[38;5;124;03mParse create response JSON\u001b[39;00m\n\u001b[0;32m    433\u001b[0m \u001b[38;5;124;03m\"\"\"\u001b[39;00m\n\u001b[0;32m    434\u001b[0m \u001b[38;5;28;01mif\u001b[39;00m response\u001b[38;5;241m.\u001b[39mstatus_code \u001b[38;5;241m<\u001b[39m \u001b[38;5;241m200\u001b[39m \u001b[38;5;129;01mor\u001b[39;00m response\u001b[38;5;241m.\u001b[39mstatus_code \u001b[38;5;241m>\u001b[39m\u001b[38;5;241m=\u001b[39m \u001b[38;5;241m300\u001b[39m:\n\u001b[1;32m--> 435\u001b[0m     \u001b[38;5;28;01mraise\u001b[39;00m \u001b[38;5;28mself\u001b[39m\u001b[38;5;241m.\u001b[39mexception(method, uri, response, \u001b[38;5;124m\"\u001b[39m\u001b[38;5;124mUnable to create record\u001b[39m\u001b[38;5;124m\"\u001b[39m)\n\u001b[0;32m    437\u001b[0m \u001b[38;5;28;01mreturn\u001b[39;00m json\u001b[38;5;241m.\u001b[39mloads(response\u001b[38;5;241m.\u001b[39mtext)\n",
      "\u001b[1;31mTwilioRestException\u001b[0m: HTTP 400 error: Unable to create record: The 'To' number whatsapp:‪+9198555075553‬ is not a valid phone number."
     ]
    }
   ],
   "source": [
    "from twilio.rest import Client\n",
    "\n",
    "import os\n",
    "account_sid = os.getenv(\"TWILIO_SID\")\n",
    "auth_token = os.getenv(\"TWILIO_AUTH_TOKEN\")\n",
    "\n",
    "client = Client(account_sid, auth_token)\n",
    "\n",
    "message = client.messages.create(\n",
    "    body=\" Hello! This is a WhatsApp message from Python \",\n",
    "    from_='whatsapp:‪+1xxxxxxxxx‬',  \n",
    "    to='whatsapp:‪+91xxxxxxxx‬'     \n",
    ")\n",
    "\n",
    "print(\" WhatsApp message sent Message SID:\", message.sid)\n"
   ]
  },
  {
   "cell_type": "code",
   "execution_count": 4,
   "id": "659b35e2-9729-42bc-a519-be5688d0e67a",
   "metadata": {},
   "outputs": [
    {
     "name": "stdout",
     "output_type": "stream",
     "text": [
      "Requirement already satisfied: twilio in c:\\users\\laddh\\anaconda3\\lib\\site-packages (9.6.4)\n",
      "Requirement already satisfied: requests>=2.0.0 in c:\\users\\laddh\\anaconda3\\lib\\site-packages (from twilio) (2.32.3)\n",
      "Requirement already satisfied: PyJWT<3.0.0,>=2.0.0 in c:\\users\\laddh\\anaconda3\\lib\\site-packages (from twilio) (2.8.0)\n",
      "Requirement already satisfied: aiohttp>=3.8.4 in c:\\users\\laddh\\anaconda3\\lib\\site-packages (from twilio) (3.10.5)\n",
      "Requirement already satisfied: aiohttp-retry>=2.8.3 in c:\\users\\laddh\\anaconda3\\lib\\site-packages (from twilio) (2.9.1)\n",
      "Requirement already satisfied: aiohappyeyeballs>=2.3.0 in c:\\users\\laddh\\anaconda3\\lib\\site-packages (from aiohttp>=3.8.4->twilio) (2.4.0)\n",
      "Requirement already satisfied: aiosignal>=1.1.2 in c:\\users\\laddh\\anaconda3\\lib\\site-packages (from aiohttp>=3.8.4->twilio) (1.2.0)\n",
      "Requirement already satisfied: attrs>=17.3.0 in c:\\users\\laddh\\anaconda3\\lib\\site-packages (from aiohttp>=3.8.4->twilio) (23.1.0)\n",
      "Requirement already satisfied: frozenlist>=1.1.1 in c:\\users\\laddh\\anaconda3\\lib\\site-packages (from aiohttp>=3.8.4->twilio) (1.4.0)\n",
      "Requirement already satisfied: multidict<7.0,>=4.5 in c:\\users\\laddh\\anaconda3\\lib\\site-packages (from aiohttp>=3.8.4->twilio) (6.0.4)\n",
      "Requirement already satisfied: yarl<2.0,>=1.0 in c:\\users\\laddh\\anaconda3\\lib\\site-packages (from aiohttp>=3.8.4->twilio) (1.11.0)\n",
      "Requirement already satisfied: charset-normalizer<4,>=2 in c:\\users\\laddh\\anaconda3\\lib\\site-packages (from requests>=2.0.0->twilio) (3.3.2)\n",
      "Requirement already satisfied: idna<4,>=2.5 in c:\\users\\laddh\\anaconda3\\lib\\site-packages (from requests>=2.0.0->twilio) (3.7)\n",
      "Requirement already satisfied: urllib3<3,>=1.21.1 in c:\\users\\laddh\\anaconda3\\lib\\site-packages (from requests>=2.0.0->twilio) (2.2.3)\n",
      "Requirement already satisfied: certifi>=2017.4.17 in c:\\users\\laddh\\anaconda3\\lib\\site-packages (from requests>=2.0.0->twilio) (2024.8.30)\n",
      "Note: you may need to restart the kernel to use updated packages.\n"
     ]
    }
   ],
   "source": [
    "pip install twilio"
   ]
  },
  {
   "cell_type": "code",
   "execution_count": 10,
   "id": "a153a8dc-5efe-4628-86db-2ac6de5c3bdc",
   "metadata": {},
   "outputs": [
    {
     "name": "stdout",
     "output_type": "stream",
     "text": [
      "✅ Message sent! SID: SM6718744c080ad98c126805c9ad0c6669\n"
     ]
    }
   ],
   "source": [
    "from twilio.rest import Client\n",
    "\n",
    "account_sid = 'AC946702f09c467b842a634026decf3c4f'\n",
    "auth_token = '515afe3f0d77582ae6ecdc5e8f287dcc'\n",
    "\n",
    "client = Client(account_sid, auth_token)\n",
    "\n",
    "message = client.messages.create(\n",
    "    body=\"Hello! This is a WhatsApp message from Python 📲\",\n",
    "    from_='whatsapp:+14155238886',  \n",
    "    to='whatsapp:+917878943493' ,   \n",
    ")\n",
    "print(\"✅ Message sent! SID:\", message.sid)\n",
    "\n"
   ]
  },
  {
   "cell_type": "code",
   "execution_count": null,
   "id": "b0262d5e-9ec2-4c60-8986-a230d89e7a9a",
   "metadata": {},
   "outputs": [],
   "source": []
  }
 ],
 "metadata": {
  "kernelspec": {
   "display_name": "Python 3 (ipykernel)",
   "language": "python",
   "name": "python3"
  },
  "language_info": {
   "codemirror_mode": {
    "name": "ipython",
    "version": 3
   },
   "file_extension": ".py",
   "mimetype": "text/x-python",
   "name": "python",
   "nbconvert_exporter": "python",
   "pygments_lexer": "ipython3",
   "version": "3.12.7"
  }
 },
 "nbformat": 4,
 "nbformat_minor": 5
}
