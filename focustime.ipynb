{
 "cells": [
  {
   "cell_type": "code",
   "execution_count": null,
   "id": "73757a97-6f79-40dd-bfbe-728f8be53bb0",
   "metadata": {},
   "outputs": [
    {
     "name": "stdout",
     "output_type": "stream",
     "text": [
      "⏱ Focus Time: 05:48\n"
     ]
    }
   ],
   "source": [
    "import time\n",
    "import random\n",
    "from IPython.display import clear_output\n",
    "\n",
    "# Motivational Quotes List\n",
    "QUOTES = [\n",
    "    \"Push yourself, because no one else is going to do it for you.\",\n",
    "    \"Great things never come from comfort zones.\",\n",
    "    \"Discipline is doing it even when you don’t feel like it.\",\n",
    "    \"Stay positive, work hard, make it happen.\",\n",
    "    \"Do something today that your future self will thank you for.\",\n",
    "    \"Your only limit is your mind.\",\n",
    "    \"Focus on being productive instead of busy.\"\n",
    "]\n",
    "\n",
    "# Countdown Timer for Jupyter Notebook\n",
    "def countdown(minutes, phase_name=\"Focus\"):\n",
    "    total_seconds = int(minutes * 60)\n",
    "    for remaining in range(total_seconds, -1, -1):\n",
    "        mins, secs = divmod(remaining, 60)\n",
    "        clear_output(wait=True)\n",
    "        print(f\"⏱ {phase_name} Time: {mins:02d}:{secs:02d}\")\n",
    "        time.sleep(1)\n",
    "\n",
    "# Pomodoro Session\n",
    "def start_focus_buddy():\n",
    "    print(\"🎯 Focus Buddy: Pomodoro Timer Starting...\")\n",
    "    countdown(25, \"Focus\")  # You can use countdown(0.1) to test quickly\n",
    "\n",
    "    print(\"\\n⏸️ Break Time! Relax for 5 minutes.\")\n",
    "    countdown(5, \"Break\")\n",
    "\n",
    "    quote = random.choice(QUOTES)\n",
    "    clear_output(wait=True)\n",
    "    print(\"✅ Session Complete!\")\n",
    "    print(f\"💡 Motivation: “{quote}”\")\n",
    "\n",
    "# Start the timer\n",
    "start_focus_buddy()\n"
   ]
  },
  {
   "cell_type": "code",
   "execution_count": null,
   "id": "a1593d92-2486-49e5-b0c0-4321594c243d",
   "metadata": {},
   "outputs": [],
   "source": []
  }
 ],
 "metadata": {
  "kernelspec": {
   "display_name": "Python 3 (ipykernel)",
   "language": "python",
   "name": "python3"
  },
  "language_info": {
   "codemirror_mode": {
    "name": "ipython",
    "version": 3
   },
   "file_extension": ".py",
   "mimetype": "text/x-python",
   "name": "python",
   "nbconvert_exporter": "python",
   "pygments_lexer": "ipython3",
   "version": "3.12.7"
  }
 },
 "nbformat": 4,
 "nbformat_minor": 5
}
