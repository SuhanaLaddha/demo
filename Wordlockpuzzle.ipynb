{
 "cells": [
  {
   "cell_type": "code",
   "execution_count": null,
   "id": "289b82d7-7306-4d55-98c3-6bb2676dde59",
   "metadata": {},
   "outputs": [
    {
     "name": "stdout",
     "output_type": "stream",
     "text": [
      "🔐 Welcome to the Wordlock Puzzle!\n",
      "You must guess the 4-letter word to unlock the vault.\n",
      "Here are your clues:\n",
      "\n",
      "Letter 1: Floats on water 🚢\n",
      "Letter 2: Used for travel 🧭\n",
      "Letter 3: May have sails 🪁\n",
      "Letter 4: Carries cargo 📦\n"
     ]
    }
   ],
   "source": [
    "import random\n",
    "\n",
    "# Wordlock bank: word → per-letter clues\n",
    "wordlocks = {\n",
    "    \"MOON\": [\"Not the Sun 🌑\", \"Round shape 🟠\", \"Comes out at night 🌙\", \"Rhymes with 'soon' 🕛\"],\n",
    "    \"FIRE\": [\"Hot & bright 🔥\", \"Opposite of water 💧\", \"Burns wood 🪵\", \"Ends like 'desire' ❤️\"],\n",
    "    \"CODE\": [\"You write it 💻\", \"Programmers love it 🧠\", \"It has logic 🧩\", \"Opposite of decode 🔓\"],\n",
    "    \"SHIP\": [\"Floats on water 🚢\", \"Used for travel 🧭\", \"May have sails 🪁\", \"Carries cargo 📦\"],\n",
    "    \"LION\": [\"Big cat 🦁\", \"King of jungle 👑\", \"Has a mane 🌾\", \"Roars loudly 📢\"]\n",
    "}\n",
    "\n",
    "def play_wordlock():\n",
    "    word, clues = random.choice(list(wordlocks.items()))\n",
    "    print(\"🔐 Welcome to the Wordlock Puzzle!\")\n",
    "    print(\"You must guess the 4-letter word to unlock the vault.\")\n",
    "    print(\"Here are your clues:\\n\")\n",
    "\n",
    "    for i, clue in enumerate(clues):\n",
    "        print(f\"Letter {i+1}: {clue}\")\n",
    "\n",
    "    guess = input(\"\\n🔍 Enter your 4-letter guess: \").upper()\n",
    "\n",
    "    if guess == word:\n",
    "        print(\"✅ Correct! You've unlocked the Wordlock!\")\n",
    "    else:\n",
    "        feedback = []\n",
    "        for g, w in zip(guess, word):\n",
    "            if g == w:\n",
    "                feedback.append(f\"{g} ✔\")\n",
    "            elif g in word:\n",
    "                feedback.append(f\"{g} ✖ (wrong spot)\")\n",
    "            else:\n",
    "                feedback.append(f\"{g} ❌\")\n",
    "        print(\"\\n❌ Incorrect guess.\")\n",
    "        print(\"Feedback:\")\n",
    "        print(\" \".join(feedback))\n",
    "        print(f\"\\n🔑 The correct word was: {word}\")\n",
    "\n",
    "# Run the game\n",
    "play_wordlock()\n"
   ]
  },
  {
   "cell_type": "code",
   "execution_count": null,
   "id": "6e73dafa-7b33-40be-8a47-ab9e0205bb2d",
   "metadata": {},
   "outputs": [],
   "source": []
  }
 ],
 "metadata": {
  "kernelspec": {
   "display_name": "Python 3 (ipykernel)",
   "language": "python",
   "name": "python3"
  },
  "language_info": {
   "codemirror_mode": {
    "name": "ipython",
    "version": 3
   },
   "file_extension": ".py",
   "mimetype": "text/x-python",
   "name": "python",
   "nbconvert_exporter": "python",
   "pygments_lexer": "ipython3",
   "version": "3.12.7"
  }
 },
 "nbformat": 4,
 "nbformat_minor": 5
}
