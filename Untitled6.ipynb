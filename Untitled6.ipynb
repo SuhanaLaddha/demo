{
 "cells": [
  {
   "cell_type": "code",
   "execution_count": 1,
   "id": "601a8148-4d2d-4e2f-9761-2d07d4421597",
   "metadata": {},
   "outputs": [
    {
     "name": "stdout",
     "output_type": "stream",
     "text": [
      "List of words: ['Python', 'is', 'powerful', 'and', 'easy', 'to', 'learn']\n"
     ]
    }
   ],
   "source": [
    "sentence = \"Python is powerful and easy to learn\"\n",
    "words_list = sentence.split()\n",
    "print(\"List of words:\", words_list)"
   ]
  },
  {
   "cell_type": "code",
   "execution_count": 2,
   "id": "d7f05a4c-ddaf-4fd5-96d2-e1a663eb0aef",
   "metadata": {},
   "outputs": [
    {
     "name": "stdout",
     "output_type": "stream",
     "text": [
      "Joined sentence: Python is powerful and easy to learn\n"
     ]
    }
   ],
   "source": [
    "joined_sentence = ' '.join(words_list)\n",
    "print(\"Joined sentence:\", joined_sentence)"
   ]
  },
  {
   "cell_type": "code",
   "execution_count": null,
   "id": "4ed7b129-b43a-40cc-bef5-b7dc93a01fc0",
   "metadata": {},
   "outputs": [],
   "source": []
  }
 ],
 "metadata": {
  "kernelspec": {
   "display_name": "Python 3 (ipykernel)",
   "language": "python",
   "name": "python3"
  },
  "language_info": {
   "codemirror_mode": {
    "name": "ipython",
    "version": 3
   },
   "file_extension": ".py",
   "mimetype": "text/x-python",
   "name": "python",
   "nbconvert_exporter": "python",
   "pygments_lexer": "ipython3",
   "version": "3.12.7"
  }
 },
 "nbformat": 4,
 "nbformat_minor": 5
}
