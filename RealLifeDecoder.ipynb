{
 "cells": [
  {
   "cell_type": "code",
   "execution_count": 2,
   "id": "13f8d4bf-eae1-409a-8bc2-5e91f6f72b99",
   "metadata": {},
   "outputs": [
    {
     "name": "stdin",
     "output_type": "stream",
     "text": [
      "Enter a real-world thing to decode (e.g., 'credit score', 'life insurance'):\n",
      " ttyl\n"
     ]
    },
    {
     "name": "stdout",
     "output_type": "stream",
     "text": [
      "\n",
      "🔍 Decoding: ttyl\n",
      "\n",
      "💡 Meme Caption style:\n",
      "ttyl? Bruh, it's just adulting.exe crashing every week. 💀\n",
      "\n",
      "💡 Pirate style:\n",
      "Arrr! The dreaded ttyl be what keeps ye from spending doubloons too freely, matey!\n",
      "\n",
      "💡 Teacher style:\n",
      "ttyl is a concept used in daily life. It affects how decisions are made in society. Let's break it down with examples...\n",
      "\n",
      "💡 Poem style:\n",
      "ttyl, a riddle wrapped in stress,\n",
      "We try our best, we second-guess.\n",
      "But with some calm and slight finesse,\n",
      "We face the chaos nonetheless.\n",
      "\n"
     ]
    }
   ],
   "source": [
    "import random\n",
    "\n",
    "# Some example explainer functions\n",
    "def explain_as_meme(term):\n",
    "    return f\"{term}? Bruh, it's just adulting.exe crashing every week. 💀\"\n",
    "\n",
    "def explain_as_pirate(term):\n",
    "    return f\"Arrr! The dreaded {term} be what keeps ye from spending doubloons too freely, matey!\"\n",
    "\n",
    "def explain_as_teacher(term):\n",
    "    return f\"{term} is a concept used in daily life. It affects how decisions are made in society. Let's break it down with examples...\"\n",
    "\n",
    "def explain_as_poem(term):\n",
    "    return f\"{term}, a riddle wrapped in stress,\\nWe try our best, we second-guess.\\nBut with some calm and slight finesse,\\nWe face the chaos nonetheless.\"\n",
    "\n",
    "# Master decoder\n",
    "def decode_term(term):\n",
    "    print(f\"\\n🔍 Decoding: {term}\\n\")\n",
    "    \n",
    "    styles = {\n",
    "        \"Meme Caption\": explain_as_meme,\n",
    "        \"Pirate\": explain_as_pirate,\n",
    "        \"Teacher\": explain_as_teacher,\n",
    "        \"Poem\": explain_as_poem\n",
    "    }\n",
    "\n",
    "    for label, func in styles.items():\n",
    "        print(f\"💡 {label} style:\\n{func(term)}\\n\")\n",
    "\n",
    "# Input\n",
    "user_input = input(\"Enter a real-world thing to decode (e.g., 'credit score', 'life insurance'):\\n\").strip()\n",
    "decode_term(user_input)\n"
   ]
  },
  {
   "cell_type": "code",
   "execution_count": null,
   "id": "dfb9006e-7604-42ec-b3d2-3cc8f9884b98",
   "metadata": {},
   "outputs": [],
   "source": []
  }
 ],
 "metadata": {
  "kernelspec": {
   "display_name": "Python 3 (ipykernel)",
   "language": "python",
   "name": "python3"
  },
  "language_info": {
   "codemirror_mode": {
    "name": "ipython",
    "version": 3
   },
   "file_extension": ".py",
   "mimetype": "text/x-python",
   "name": "python",
   "nbconvert_exporter": "python",
   "pygments_lexer": "ipython3",
   "version": "3.12.7"
  }
 },
 "nbformat": 4,
 "nbformat_minor": 5
}
