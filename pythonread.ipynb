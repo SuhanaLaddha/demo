{
 "cells": [
  {
   "cell_type": "code",
   "execution_count": 1,
   "id": "5f51bae4-c388-465f-9322-c013d692c92e",
   "metadata": {},
   "outputs": [
    {
     "name": "stdout",
     "output_type": "stream",
     "text": [
      "✅ File 'mydata.txt' created and written successfully.\n",
      "\n",
      "📄 Content of 'mydata.txt':\n",
      "\n",
      "This is my first line of text.\n",
      "Here's the second line.\n",
      "And this is the third line.\n",
      "\n"
     ]
    }
   ],
   "source": [
    "with open(\"mydata.txt\", \"w\") as file:\n",
    "    file.write(\"This is my first line of text.\\n\")\n",
    "    file.write(\"Here's the second line.\\n\")\n",
    "    file.write(\"And this is the third line.\\n\")\n",
    "\n",
    "print(\"✅ File 'mydata.txt' created and written successfully.\")\n",
    "\n",
    "\n",
    "print(\"\\n📄 Content of 'mydata.txt':\\n\")\n",
    "with open(\"mydata.txt\", \"r\") as file:\n",
    "    content = file.read()\n",
    "    print(content)\n"
   ]
  },
  {
   "cell_type": "code",
   "execution_count": 2,
   "id": "ec0e0326-c2bc-4555-9471-664dde61bea7",
   "metadata": {},
   "outputs": [],
   "source": [
    "with open(\"mydata.txt\", \"w\") as file:\n",
    "    file.write(\"This is the NEW updated content.\\n\")\n",
    "    "
   ]
  },
  {
   "cell_type": "code",
   "execution_count": 3,
   "id": "663598d3-15f6-425a-b35d-ef463e681881",
   "metadata": {},
   "outputs": [
    {
     "name": "stdout",
     "output_type": "stream",
     "text": [
      "Updated Content:\n",
      "This is the NEW updated content.\n",
      "\n"
     ]
    }
   ],
   "source": [
    "with open(\"mydata.txt\", \"r\") as file:\n",
    "    updated_content = file.read()\n",
    "    print(\"Updated Content:\")\n",
    "    print(updated_content)"
   ]
  },
  {
   "cell_type": "code",
   "execution_count": 4,
   "id": "0cf5f782-7dea-4c16-aa01-f6439dfbc5fc",
   "metadata": {},
   "outputs": [],
   "source": [
    "with open(\"mydata.txt\", \"w\") as file:\n",
    "    file.write(\"helloooo\")"
   ]
  },
  {
   "cell_type": "code",
   "execution_count": 5,
   "id": "180e95f6-b679-4b55-abd1-d94764ef7688",
   "metadata": {},
   "outputs": [
    {
     "name": "stdout",
     "output_type": "stream",
     "text": [
      "Updated Content:\n",
      "helloooo\n"
     ]
    }
   ],
   "source": [
    "with open(\"mydata.txt\", \"r\") as file:\n",
    "    updated_content = file.read()\n",
    "    print(\"Updated Content:\")\n",
    "    print(updated_content)"
   ]
  },
  {
   "cell_type": "code",
   "execution_count": null,
   "id": "8d49f041-4d86-4323-b680-7c09f592c3f4",
   "metadata": {},
   "outputs": [],
   "source": []
  }
 ],
 "metadata": {
  "kernelspec": {
   "display_name": "Python 3 (ipykernel)",
   "language": "python",
   "name": "python3"
  },
  "language_info": {
   "codemirror_mode": {
    "name": "ipython",
    "version": 3
   },
   "file_extension": ".py",
   "mimetype": "text/x-python",
   "name": "python",
   "nbconvert_exporter": "python",
   "pygments_lexer": "ipython3",
   "version": "3.12.7"
  }
 },
 "nbformat": 4,
 "nbformat_minor": 5
}
