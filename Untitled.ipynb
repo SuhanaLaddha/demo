{
 "cells": [
  {
   "cell_type": "code",
   "execution_count": 3,
   "id": "ad13c5a3-8662-447b-8e54-48b8aaa840e8",
   "metadata": {},
   "outputs": [],
   "source": [
    "d=[1,2,3,4]"
   ]
  },
  {
   "cell_type": "code",
   "execution_count": 4,
   "id": "54edde4a-bc11-4783-871d-e2c9544350eb",
   "metadata": {},
   "outputs": [
    {
     "data": {
      "text/plain": [
       "[1, 2, 3, 4]"
      ]
     },
     "execution_count": 4,
     "metadata": {},
     "output_type": "execute_result"
    }
   ],
   "source": [
    "d"
   ]
  },
  {
   "cell_type": "code",
   "execution_count": 6,
   "id": "47797d3b-03ef-482f-b106-aa27d073e1d9",
   "metadata": {},
   "outputs": [
    {
     "data": {
      "text/plain": [
       "[1, 2]"
      ]
     },
     "execution_count": 6,
     "metadata": {},
     "output_type": "execute_result"
    }
   ],
   "source": [
    "d[0:2]"
   ]
  },
  {
   "cell_type": "code",
   "execution_count": 7,
   "id": "6e953c89-a847-4dff-a37b-b11f4f202425",
   "metadata": {},
   "outputs": [],
   "source": [
    "d.append(5)"
   ]
  },
  {
   "cell_type": "code",
   "execution_count": 8,
   "id": "e973e8c9-7479-4d6a-95ba-7c49dbe90151",
   "metadata": {},
   "outputs": [
    {
     "data": {
      "text/plain": [
       "[1, 2, 3, 4, 5]"
      ]
     },
     "execution_count": 8,
     "metadata": {},
     "output_type": "execute_result"
    }
   ],
   "source": [
    "d"
   ]
  },
  {
   "cell_type": "code",
   "execution_count": 9,
   "id": "4d2126b8-37b5-4665-af20-19622089c8ce",
   "metadata": {},
   "outputs": [],
   "source": [
    "d.remove(5)"
   ]
  },
  {
   "cell_type": "code",
   "execution_count": 10,
   "id": "56bde12a-64c5-40f8-a720-81e6f2e0e394",
   "metadata": {},
   "outputs": [
    {
     "data": {
      "text/plain": [
       "[1, 2, 3, 4]"
      ]
     },
     "execution_count": 10,
     "metadata": {},
     "output_type": "execute_result"
    }
   ],
   "source": [
    "d"
   ]
  },
  {
   "cell_type": "code",
   "execution_count": 11,
   "id": "5e4e135a-c91d-4a7b-b8e4-fd0947356054",
   "metadata": {},
   "outputs": [
    {
     "data": {
      "text/plain": [
       "<function list.pop(index=-1, /)>"
      ]
     },
     "execution_count": 11,
     "metadata": {},
     "output_type": "execute_result"
    }
   ],
   "source": [
    "d.pop"
   ]
  },
  {
   "cell_type": "code",
   "execution_count": 12,
   "id": "ed60d7cd-40f3-4e8b-b449-7b223b83aa12",
   "metadata": {},
   "outputs": [
    {
     "data": {
      "text/plain": [
       "4"
      ]
     },
     "execution_count": 12,
     "metadata": {},
     "output_type": "execute_result"
    }
   ],
   "source": [
    "d.pop()"
   ]
  },
  {
   "cell_type": "code",
   "execution_count": 13,
   "id": "2b720d90-7745-444a-b3eb-3301a5e4715d",
   "metadata": {},
   "outputs": [
    {
     "data": {
      "text/plain": [
       "[1, 2, 3]"
      ]
     },
     "execution_count": 13,
     "metadata": {},
     "output_type": "execute_result"
    }
   ],
   "source": [
    "d"
   ]
  },
  {
   "cell_type": "code",
   "execution_count": 17,
   "id": "436bf409-ae21-4db6-9c0b-ea05336df63c",
   "metadata": {},
   "outputs": [],
   "source": [
    "name=[\"pop\",\"jack\",\"tom\",11,12,13]"
   ]
  },
  {
   "cell_type": "code",
   "execution_count": 15,
   "id": "680ff2c9-213f-4e4b-b8b0-254feb6e6366",
   "metadata": {},
   "outputs": [],
   "source": [
    "name[1]=\"jack1\""
   ]
  },
  {
   "cell_type": "code",
   "execution_count": 16,
   "id": "fb644b15-db1f-4593-996e-f80470f4b489",
   "metadata": {},
   "outputs": [
    {
     "data": {
      "text/plain": [
       "['pop', 'jack1', 'tom']"
      ]
     },
     "execution_count": 16,
     "metadata": {},
     "output_type": "execute_result"
    }
   ],
   "source": [
    "name"
   ]
  },
  {
   "cell_type": "code",
   "execution_count": 18,
   "id": "23890419-3957-48cb-aca1-4d33277cb434",
   "metadata": {},
   "outputs": [],
   "source": [
    "def lw():\n",
    "    for i in name:\n",
    "        print(i)"
   ]
  },
  {
   "cell_type": "code",
   "execution_count": 19,
   "id": "cda28d1e-4225-48b0-89e2-38d7e728b19c",
   "metadata": {},
   "outputs": [
    {
     "name": "stdout",
     "output_type": "stream",
     "text": [
      "pop\n",
      "jack\n",
      "tom\n",
      "11\n",
      "12\n",
      "13\n"
     ]
    }
   ],
   "source": [
    "lw()"
   ]
  },
  {
   "cell_type": "code",
   "execution_count": 20,
   "id": "3e2540ca-fc0d-4a45-a94f-3a1e80369981",
   "metadata": {},
   "outputs": [
    {
     "name": "stdout",
     "output_type": "stream",
     "text": [
      "pop\n",
      "jack\n",
      "tom\n",
      "11\n",
      "12\n",
      "13\n"
     ]
    }
   ],
   "source": [
    "try:\n",
    "    lw()\n",
    "except:\n",
    "    print(\"Email sent fail\")"
   ]
  },
  {
   "cell_type": "code",
   "execution_count": 23,
   "id": "54ca906e-aa4a-45a4-a192-dd7cb6ea5391",
   "metadata": {},
   "outputs": [],
   "source": [
    "name2 = {\n",
    "    \n",
    "        \n",
    "    \"name\":\"jack\",\n",
    "    \"mob\":1111,\n",
    "    \"address\":\"jaipur\"\n",
    "    \n",
    "\n",
    "\n",
    "}"
   ]
  },
  {
   "cell_type": "code",
   "execution_count": 24,
   "id": "1b74f368-4ad4-4844-86d7-c311a0bcccda",
   "metadata": {},
   "outputs": [
    {
     "data": {
      "text/plain": [
       "{'name': 'jack', 'mob': 1111, 'address': 'jaipur'}"
      ]
     },
     "execution_count": 24,
     "metadata": {},
     "output_type": "execute_result"
    }
   ],
   "source": [
    "name2"
   ]
  },
  {
   "cell_type": "markdown",
   "id": "2986b645-033c-48f5-9bd4-c535b0fce250",
   "metadata": {},
   "source": []
  },
  {
   "cell_type": "markdown",
   "id": "bd1955e8-5107-457a-ad4b-87b11bd535df",
   "metadata": {},
   "source": [
    "## "
   ]
  },
  {
   "cell_type": "code",
   "execution_count": 25,
   "id": "27d36341-b8aa-491f-9cdf-0ee8ee925310",
   "metadata": {},
   "outputs": [],
   "source": [
    "my_tuple = (1,\"hello\",3.14)"
   ]
  },
  {
   "cell_type": "code",
   "execution_count": 1,
   "id": "52cdcb83-a2cd-40e3-b6ce-90704e5c859e",
   "metadata": {},
   "outputs": [],
   "source": [
    "db = [\n",
    "    [\"ram\",1111,\"ok\"],\n",
    "    [\"rahul\",2222,\"good\"],\n",
    "    [\"harshit\",3333,\"vgood\"],\n",
    "    [\"rohit\",4444,\"excellent\"]\n",
    "]\n",
    "    "
   ]
  },
  {
   "cell_type": "code",
   "execution_count": 2,
   "id": "bc7eec14-6edd-4c45-ad23-8ba108ddbd5e",
   "metadata": {},
   "outputs": [
    {
     "data": {
      "text/plain": [
       "[['ram', 1111, 'ok'],\n",
       " ['rahul', 2222, 'good'],\n",
       " ['harshit', 3333, 'vgood'],\n",
       " ['rohit', 4444, 'excellent']]"
      ]
     },
     "execution_count": 2,
     "metadata": {},
     "output_type": "execute_result"
    }
   ],
   "source": [
    "db"
   ]
  },
  {
   "cell_type": "code",
   "execution_count": 5,
   "id": "2b4ff5c0-2358-413c-9efa-7311741d5d13",
   "metadata": {},
   "outputs": [
    {
     "name": "stdout",
     "output_type": "stream",
     "text": [
      "[1111, 2222, 3333, 4444]\n"
     ]
    }
   ],
   "source": [
    "import operator\n",
    "second_column = list(map(operator.itemgetter(1),db))\n",
    "print(second_column)\n"
   ]
  },
  {
   "cell_type": "code",
   "execution_count": 8,
   "id": "1227f631-397a-44bb-803e-4b026135753f",
   "metadata": {},
   "outputs": [],
   "source": [
    "import numpy"
   ]
  },
  {
   "cell_type": "code",
   "execution_count": 7,
   "id": "213cef95-5b2b-4c20-ac8c-f1bb9a7483b2",
   "metadata": {},
   "outputs": [
    {
     "data": {
      "text/plain": [
       "[['ram', 1111, 'ok'],\n",
       " ['rahul', 2222, 'good'],\n",
       " ['harshit', 3333, 'vgood'],\n",
       " ['rohit', 4444, 'excellent']]"
      ]
     },
     "execution_count": 7,
     "metadata": {},
     "output_type": "execute_result"
    }
   ],
   "source": [
    "db[::1]"
   ]
  },
  {
   "cell_type": "code",
   "execution_count": 9,
   "id": "9d878a14-9f26-4749-af33-be008a9a3f5c",
   "metadata": {},
   "outputs": [
    {
     "data": {
      "text/plain": [
       "[['ram', 1111, 'ok']]"
      ]
     },
     "execution_count": 9,
     "metadata": {},
     "output_type": "execute_result"
    }
   ],
   "source": [
    "db[:1]"
   ]
  },
  {
   "cell_type": "code",
   "execution_count": 14,
   "id": "8db38b3c-41a4-436e-af57-e300c9668673",
   "metadata": {},
   "outputs": [
    {
     "ename": "NameError",
     "evalue": "name 'np' is not defined",
     "output_type": "error",
     "traceback": [
      "\u001b[1;31m---------------------------------------------------------------------------\u001b[0m",
      "\u001b[1;31mNameError\u001b[0m                                 Traceback (most recent call last)",
      "Cell \u001b[1;32mIn[14], line 1\u001b[0m\n\u001b[1;32m----> 1\u001b[0m mydata \u001b[38;5;241m=\u001b[39m np\u001b[38;5;241m.\u001b[39marray(db)\n",
      "\u001b[1;31mNameError\u001b[0m: name 'np' is not defined"
     ]
    }
   ],
   "source": [
    "mydata = np.array(db)"
   ]
  },
  {
   "cell_type": "code",
   "execution_count": 12,
   "id": "674cacae-4883-41b9-86ba-b05bd61cc16a",
   "metadata": {},
   "outputs": [
    {
     "data": {
      "text/plain": [
       "numpy.ndarray[slice(None, None, None)]"
      ]
     },
     "execution_count": 12,
     "metadata": {},
     "output_type": "execute_result"
    }
   ],
   "source": [
    "mydata[:]"
   ]
  },
  {
   "cell_type": "code",
   "execution_count": 13,
   "id": "8356a791-976b-4922-a2a1-8bef0412a475",
   "metadata": {},
   "outputs": [
    {
     "data": {
      "text/plain": [
       "numpy.ndarray[slice(1, 3, None)]"
      ]
     },
     "execution_count": 13,
     "metadata": {},
     "output_type": "execute_result"
    }
   ],
   "source": [
    "mydata[1:3]\n"
   ]
  },
  {
   "cell_type": "code",
   "execution_count": null,
   "id": "e3f1fd86-034a-49b7-a6ec-71c40c13269e",
   "metadata": {},
   "outputs": [],
   "source": []
  }
 ],
 "metadata": {
  "kernelspec": {
   "display_name": "Python 3 (ipykernel)",
   "language": "python",
   "name": "python3"
  },
  "language_info": {
   "codemirror_mode": {
    "name": "ipython",
    "version": 3
   },
   "file_extension": ".py",
   "mimetype": "text/x-python",
   "name": "python",
   "nbconvert_exporter": "python",
   "pygments_lexer": "ipython3",
   "version": "3.12.7"
  }
 },
 "nbformat": 4,
 "nbformat_minor": 5
}
