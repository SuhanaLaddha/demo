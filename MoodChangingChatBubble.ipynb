{
 "cells": [
  {
   "cell_type": "code",
   "execution_count": 1,
   "id": "9c55f299-c6b8-481a-b2f3-2ce2a6145448",
   "metadata": {},
   "outputs": [
    {
     "name": "stderr",
     "output_type": "stream",
     "text": [
      "[nltk_data] Downloading package punkt to\n",
      "[nltk_data]     C:\\Users\\laddh\\AppData\\Roaming\\nltk_data...\n",
      "[nltk_data]   Unzipping tokenizers\\punkt.zip.\n"
     ]
    },
    {
     "data": {
      "text/plain": [
       "True"
      ]
     },
     "execution_count": 1,
     "metadata": {},
     "output_type": "execute_result"
    }
   ],
   "source": [
    "import nltk\n",
    "nltk.download('punkt')"
   ]
  },
  {
   "cell_type": "code",
   "execution_count": null,
   "id": "1deba1d2-a670-43a5-8ab5-30d3c9d46224",
   "metadata": {},
   "outputs": [
    {
     "name": "stdout",
     "output_type": "stream",
     "text": [
      "🗨 Mood Chat Bubble — Responds Based on Your Mood\n",
      "\n"
     ]
    }
   ],
   "source": [
    "from textblob import TextBlob\n",
    "import random\n",
    "\n",
    "# Mood-based reply styles\n",
    "def style_reply(user_msg):\n",
    "    blob = TextBlob(user_msg)\n",
    "    polarity = blob.sentiment.polarity\n",
    "\n",
    "    base_reply = \"Thanks for sharing that.\"\n",
    "\n",
    "    if polarity > 0.4:\n",
    "        # Happy\n",
    "        styled = base_reply.upper() + \" ✨🌈💬\"\n",
    "    elif polarity < -0.2:\n",
    "        # Sad\n",
    "        styled = \"...thanks for sharing that...\"  # lowercase, ellipses\n",
    "    elif polarity > 0 and polarity <= 0.4:\n",
    "        # Calm/neutral-positive\n",
    "        styled = base_reply + \" 🙂\"\n",
    "    elif polarity <= 0 and polarity > -0.2:\n",
    "        # Slightly negative/neutral\n",
    "        styled = base_reply + \" 😐\"\n",
    "    else:\n",
    "        # Angry or very negative\n",
    "        styled = base_reply.upper() + \"!! 😠\"\n",
    "\n",
    "    return styled\n",
    "\n",
    "# Main loop (single-shot demo)\n",
    "def mood_chat():\n",
    "    print(\"🗨 Mood Chat Bubble — Responds Based on Your Mood\\n\")\n",
    "    msg = input(\"You: \")\n",
    "    styled_response = style_reply(msg)\n",
    "    print(\"\\nBot:\", styled_response)\n",
    "\n",
    "# Run it\n",
    "mood_chat()\n"
   ]
  },
  {
   "cell_type": "code",
   "execution_count": null,
   "id": "8f034169-a623-4511-a8db-af7021315775",
   "metadata": {},
   "outputs": [],
   "source": []
  }
 ],
 "metadata": {
  "kernelspec": {
   "display_name": "Python 3 (ipykernel)",
   "language": "python",
   "name": "python3"
  },
  "language_info": {
   "codemirror_mode": {
    "name": "ipython",
    "version": 3
   },
   "file_extension": ".py",
   "mimetype": "text/x-python",
   "name": "python",
   "nbconvert_exporter": "python",
   "pygments_lexer": "ipython3",
   "version": "3.12.7"
  }
 },
 "nbformat": 4,
 "nbformat_minor": 5
}
