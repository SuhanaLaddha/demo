{
 "cells": [
  {
   "cell_type": "code",
   "execution_count": 1,
   "id": "71de9189-7c74-49fa-911c-96de6e93ffd9",
   "metadata": {},
   "outputs": [
    {
     "name": "stdout",
     "output_type": "stream",
     "text": [
      "Full Array: [ 10  20  30  40  50  60  70  80  90 100]\n",
      "Shape: (10,)\n",
      "Size: 10\n",
      "Data Type: int32\n",
      "First 5 Elements: [10 20 30 40 50]\n",
      "Modified Array: [ 10  20  30  40  50  60  70 101 102 103]\n",
      "Sum: 586\n",
      "Mean: 58.6\n",
      "Standard Deviation: 32.97635516548183\n"
     ]
    }
   ],
   "source": [
    "import numpy as np\n",
    "\n",
    "arr = np.array([10, 20, 30, 40, 50, 60, 70, 80, 90, 100])\n",
    "\n",
    "print(\"Full Array:\", arr)\n",
    "print(\"Shape:\", arr.shape)\n",
    "print(\"Size:\", arr.size)\n",
    "print(\"Data Type:\", arr.dtype)\n",
    "\n",
    "print(\"First 5 Elements:\", arr[:5])\n",
    "\n",
    "arr[-3:] = [101, 102, 103]\n",
    "print(\"Modified Array:\", arr)\n",
    "\n",
    "print(\"Sum:\", np.sum(arr))\n",
    "print(\"Mean:\", np.mean(arr))\n",
    "print(\"Standard Deviation:\", np.std(arr))"
   ]
  },
  {
   "cell_type": "code",
   "execution_count": null,
   "id": "f492ff59-097f-45e9-bebb-ae9dc6e07a84",
   "metadata": {},
   "outputs": [],
   "source": []
  }
 ],
 "metadata": {
  "kernelspec": {
   "display_name": "Python 3 (ipykernel)",
   "language": "python",
   "name": "python3"
  },
  "language_info": {
   "codemirror_mode": {
    "name": "ipython",
    "version": 3
   },
   "file_extension": ".py",
   "mimetype": "text/x-python",
   "name": "python",
   "nbconvert_exporter": "python",
   "pygments_lexer": "ipython3",
   "version": "3.12.7"
  }
 },
 "nbformat": 4,
 "nbformat_minor": 5
}
