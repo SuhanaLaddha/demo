{
 "cells": [
  {
   "cell_type": "code",
   "execution_count": 1,
   "id": "0eaa52e7-4fc4-44c1-b42b-032b203f416e",
   "metadata": {},
   "outputs": [
    {
     "name": "stdin",
     "output_type": "stream",
     "text": [
      "🔐 Enter your password to check strength:  suhana@06\n"
     ]
    },
    {
     "name": "stdout",
     "output_type": "stream",
     "text": [
      "\n",
      "🔍 Password Strength Report:\n",
      "🟡 Medium Strength Password ⚠️\n",
      "❌ No uppercase letter\n",
      "✅ Not a common password.\n",
      "\n",
      "🛠️ Suggested Secure Password: G3>%Zx=n,R4@GH=R\n"
     ]
    }
   ],
   "source": [
    "import random\n",
    "import string\n",
    "import re\n",
    "\n",
    "# 🔐 Check Password Strength\n",
    "def check_password_strength(password):\n",
    "    score = 0\n",
    "    messages = []\n",
    "\n",
    "    if len(password) >= 8:\n",
    "        score += 1\n",
    "    else:\n",
    "        messages.append(\"❌ Less than 8 characters\")\n",
    "\n",
    "    if re.search(r\"[A-Z]\", password):\n",
    "        score += 1\n",
    "    else:\n",
    "        messages.append(\"❌ No uppercase letter\")\n",
    "\n",
    "    if re.search(r\"[a-z]\", password):\n",
    "        score += 1\n",
    "    else:\n",
    "        messages.append(\"❌ No lowercase letter\")\n",
    "\n",
    "    if re.search(r\"[0-9]\", password):\n",
    "        score += 1\n",
    "    else:\n",
    "        messages.append(\"❌ No digit\")\n",
    "\n",
    "    if re.search(r\"[!@#$%^&*(),.?\\\":{}|<>]\", password):\n",
    "        score += 1\n",
    "    else:\n",
    "        messages.append(\"❌ No special character\")\n",
    "\n",
    "    print(\"\\n🔍 Password Strength Report:\")\n",
    "    if score == 5:\n",
    "        print(\"✅ Strong Password 💪\")\n",
    "    elif score >= 3:\n",
    "        print(\"🟡 Medium Strength Password ⚠️\")\n",
    "    else:\n",
    "        print(\"🔴 Weak Password ❗\")\n",
    "\n",
    "    for msg in messages:\n",
    "        print(msg)\n",
    "\n",
    "# 🔐 Generate Strong Password\n",
    "def generate_strong_password(length=12):\n",
    "    if length < 8:\n",
    "        print(\"❗ Minimum length should be 8\")\n",
    "        return None\n",
    "\n",
    "    characters = (\n",
    "        string.ascii_uppercase +\n",
    "        string.ascii_lowercase +\n",
    "        string.digits +\n",
    "        string.punctuation\n",
    "    )\n",
    "\n",
    "    # Ensure at least one of each type\n",
    "    password = [\n",
    "        random.choice(string.ascii_uppercase),\n",
    "        random.choice(string.ascii_lowercase),\n",
    "        random.choice(string.digits),\n",
    "        random.choice(string.punctuation)\n",
    "    ]\n",
    "\n",
    "    password += random.choices(characters, k=length - 4)\n",
    "    random.shuffle(password)\n",
    "    return ''.join(password)\n",
    "\n",
    "# ⚠️ Common Password Checker\n",
    "COMMON_PASSWORDS = [\"123456\", \"password\", \"qwerty\", \"abc123\", \"111111\"]\n",
    "\n",
    "def is_common_password(pwd):\n",
    "    if pwd.lower() in COMMON_PASSWORDS:\n",
    "        print(\"⚠️ This is a commonly used password. Avoid it!\")\n",
    "    else:\n",
    "        print(\"✅ Not a common password.\")\n",
    "\n",
    "# 🚀 Run Interaction\n",
    "user_password = input(\"🔐 Enter your password to check strength: \")\n",
    "check_password_strength(user_password)\n",
    "is_common_password(user_password)\n",
    "\n",
    "print(\"\\n🛠️ Suggested Secure Password:\", generate_strong_password(16))\n"
   ]
  },
  {
   "cell_type": "code",
   "execution_count": null,
   "id": "0fd04c53-33c6-4e71-92ee-cdffde1dbae7",
   "metadata": {},
   "outputs": [],
   "source": []
  }
 ],
 "metadata": {
  "kernelspec": {
   "display_name": "Python 3 (ipykernel)",
   "language": "python",
   "name": "python3"
  },
  "language_info": {
   "codemirror_mode": {
    "name": "ipython",
    "version": 3
   },
   "file_extension": ".py",
   "mimetype": "text/x-python",
   "name": "python",
   "nbconvert_exporter": "python",
   "pygments_lexer": "ipython3",
   "version": "3.12.7"
  }
 },
 "nbformat": 4,
 "nbformat_minor": 5
}
